{
 "cells": [
  {
   "cell_type": "code",
   "execution_count": 1,
   "metadata": {},
   "outputs": [],
   "source": [
    "import pandas as pd"
   ]
  },
  {
   "cell_type": "code",
   "execution_count": 2,
   "metadata": {},
   "outputs": [],
   "source": [
    "vimana_df = pd.read_csv('vimana.csv')"
   ]
  },
  {
   "cell_type": "code",
   "execution_count": 6,
   "metadata": {},
   "outputs": [
    {
     "data": {
      "image/png": "[encoded data removed]",
      "text/plain": [
       "<Figure size 432x288 with 1 Axes>"
      ]
     },
     "metadata": {
      "needs_background": "light"
     },
     "output_type": "display_data"
    }
   ],
   "source": [
    "import matplotlib.pyplot as plt\n",
    "import seaborn as sb\n",
    "%matplotlib inline\n",
    "from statsmodels.graphics.tsaplots import plot_acf,plot_pacf\n",
    "acf_plot = plot_acf(vimana_df.demand,lags=20)"
   ]
  },
  {
   "cell_type": "code",
   "execution_count": 7,
   "metadata": {},
   "outputs": [
    {
     "name": "stderr",
     "output_type": "stream",
     "text": [
      "C:\\Users\\hp user\\Anaconda3\\lib\\site-packages\\statsmodels\\regression\\linear_model.py:1358: RuntimeWarning: invalid value encountered in sqrt\n",
      "  return rho, np.sqrt(sigmasq)\n"
     ]
    },
    {
     "data": {
      "image/png": "[encoded data removed]",
      "text/plain": [
       "<Figure size 432x288 with 1 Axes>"
      ]
     },
     "metadata": {
      "needs_background": "light"
     },
     "output_type": "display_data"
    }
   ],
   "source": [
    "pacf_plot = plot_pacf ( vimana_df.demand,lags = 20)"
   ]
  },
  {
   "cell_type": "code",
   "execution_count": 8,
   "metadata": {},
   "outputs": [],
   "source": [
    "from statsmodels.tsa.arima_model import ARIMA"
   ]
  },
  {
   "cell_type": "code",
   "execution_count": 9,
   "metadata": {},
   "outputs": [
    {
     "name": "stderr",
     "output_type": "stream",
     "text": [
      "C:\\Users\\hp user\\Anaconda3\\lib\\site-packages\\ipykernel_launcher.py:2: FutureWarning: Method .as_matrix will be removed in a future version. Use .values instead.\n",
      "  \n"
     ]
    }
   ],
   "source": [
    "import numpy as np\n",
    "arima = ARIMA(vimana_df.demand[0:30].astype(np.float64).as_matrix(),order=(1,1,0))\n",
    "ar_model = arima.fit()"
   ]
  },
  {
   "cell_type": "code",
   "execution_count": 10,
   "metadata": {},
   "outputs": [
    {
     "data": {
      "text/html": [
       "<table class=\"simpletable\">\n",
       "<tr>\n",
       "        <td>Model:</td>              <td>ARIMA</td>              <td>BIC:</td>         <td>364.8272</td>\n",
       "</tr>\n",
       "<tr>\n",
       "  <td>Dependent Variable:</td>        <td>D.y</td>          <td>Log-Likelihood:</td>    <td>-177.36</td>\n",
       "</tr>\n",
       "<tr>\n",
       "         <td>Date:</td>        <td>2020-02-05 09:02</td>        <td>Scale:</td>         <td>1.0000</td> \n",
       "</tr>\n",
       "<tr>\n",
       "   <td>No. Observations:</td>         <td>29</td>               <td>Method:</td>        <td>css-mle</td>\n",
       "</tr>\n",
       "<tr>\n",
       "       <td>Df Model:</td>              <td>2</td>               <td>Sample:</td>           <td>1</td>   \n",
       "</tr>\n",
       "<tr>\n",
       "     <td>Df Residuals:</td>           <td>27</td>                  <td></td>               <td>0</td>   \n",
       "</tr>\n",
       "<tr>\n",
       "      <td>Converged:</td>           <td>1.0000</td>      <td>S.D. of innovations:</td>  <td>109.135</td>\n",
       "</tr>\n",
       "<tr>\n",
       "    <td>No. Iterations:</td>        <td>18.0000</td>             <td>HQIC:</td>         <td>362.010</td>\n",
       "</tr>\n",
       "<tr>\n",
       "         <td>AIC:</td>             <td>360.7253</td>               <td></td>               <td></td>    \n",
       "</tr>\n",
       "</table>\n",
       "<table class=\"simpletable\">\n",
       "<tr>\n",
       "      <td></td>       <th>Coef.</th>  <th>Std.Err.</th>    <th>t</th>     <th>P>|t|</th>  <th>[0.025</th>  <th>0.975]</th> \n",
       "</tr>\n",
       "<tr>\n",
       "  <th>const</th>     <td>-0.7776</td>  <td>13.8840</td> <td>-0.0560</td> <td>0.9557</td> <td>-27.9897</td> <td>26.4345</td>\n",
       "</tr>\n",
       "<tr>\n",
       "  <th>ar.L1.D.y</th> <td>-0.4762</td>  <td>0.1580</td>  <td>-3.0134</td> <td>0.0056</td>  <td>-0.7859</td> <td>-0.1665</td>\n",
       "</tr>\n",
       "</table>\n",
       "<table class=\"simpletable\">\n",
       "<tr>\n",
       "    <td></td>    <th>Real</th>   <th>Imaginary</th> <th>Modulus</th> <th>Frequency</th>\n",
       "</tr>\n",
       "<tr>\n",
       "  <th>AR.1</th> <td>-2.1000</td>  <td>0.0000</td>   <td>2.1000</td>   <td>0.5000</td>  \n",
       "</tr>\n",
       "</table>"
      ],
      "text/plain": [
       "<class 'statsmodels.iolib.summary2.Summary'>\n",
       "\"\"\"\n",
       "                          Results: ARIMA\n",
       "==================================================================\n",
       "Model:              ARIMA            BIC:                 364.8272\n",
       "Dependent Variable: D.y              Log-Likelihood:      -177.36 \n",
       "Date:               2020-02-05 09:02 Scale:               1.0000  \n",
       "No. Observations:   29               Method:              css-mle \n",
       "Df Model:           2                Sample:              1       \n",
       "Df Residuals:       27                                    0       \n",
       "Converged:          1.0000           S.D. of innovations: 109.135 \n",
       "No. Iterations:     18.0000          HQIC:                362.010 \n",
       "AIC:                360.7253                                      \n",
       "-------------------------------------------------------------------\n",
       "               Coef.   Std.Err.     t     P>|t|    [0.025    0.975]\n",
       "-------------------------------------------------------------------\n",
       "const         -0.7776   13.8840  -0.0560  0.9557  -27.9897  26.4345\n",
       "ar.L1.D.y     -0.4762    0.1580  -3.0134  0.0056   -0.7859  -0.1665\n",
       "--------------------------------------------------------------------------\n",
       "                 Real          Imaginary         Modulus         Frequency\n",
       "--------------------------------------------------------------------------\n",
       "AR.1           -2.1000            0.0000          2.1000            0.5000\n",
       "==================================================================\n",
       "\n",
       "\"\"\""
      ]
     },
     "execution_count": 10,
     "metadata": {},
     "output_type": "execute_result"
    }
   ],
   "source": [
    "ar_model.summary2()"
   ]
  },
  {
   "cell_type": "code",
   "execution_count": 11,
   "metadata": {},
   "outputs": [],
   "source": [
    "    forecast_31_37 = ar_model.predict(30,36)"
   ]
  },
  {
   "cell_type": "code",
   "execution_count": 12,
   "metadata": {},
   "outputs": [
    {
     "data": {
      "text/plain": [
       "array([-21.6236769 ,   9.14887999,  -5.50442207,   1.47319965,\n",
       "        -1.84941014,  -0.26724701,  -1.02064278])"
      ]
     },
     "execution_count": 12,
     "metadata": {},
     "output_type": "execute_result"
    }
   ],
   "source": [
    "forecast_31_37"
   ]
  },
  {
   "cell_type": "code",
   "execution_count": 14,
   "metadata": {},
   "outputs": [],
   "source": [
    "def get_mape(actual,predicted):\n",
    "    y_true,y_pred = np.array(actual),np.array(predicted)\n",
    "    return np.round( np.mean(np.abs(actual - predicted)/actual)*100,2)"
   ]
  },
  {
   "cell_type": "code",
   "execution_count": 15,
   "metadata": {},
   "outputs": [
    {
     "data": {
      "text/plain": [
       "100.59"
      ]
     },
     "execution_count": 15,
     "metadata": {},
     "output_type": "execute_result"
    }
   ],
   "source": [
    "get_mape(vimana_df.demand[30:],forecast_31_37)"
   ]
  },
  {
   "cell_type": "code",
   "execution_count": null,
   "metadata": {},
   "outputs": [],
   "source": []
  }
 ],
 "metadata": {
  "kernelspec": {
   "display_name": "Python 3",
   "language": "python",
   "name": "python3"
  },
  "language_info": {
   "codemirror_mode": {
    "name": "ipython",
    "version": 3
   },
   "file_extension": ".py",
   "mimetype": "text/x-python",
   "name": "python",
   "nbconvert_exporter": "python",
   "pygments_lexer": "ipython3",
   "version": "3.7.3"
  }
 },
 "nbformat": 4,
 "nbformat_minor": 2
}
